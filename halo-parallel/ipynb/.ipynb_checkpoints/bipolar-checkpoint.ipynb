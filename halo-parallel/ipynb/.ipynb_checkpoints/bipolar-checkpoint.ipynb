{
 "cells": [
  {
   "cell_type": "markdown",
   "metadata": {},
   "source": [
    "## Validate Code using Bipolar"
   ]
  },
  {
   "cell_type": "code",
   "execution_count": 2,
   "metadata": {
    "collapsed": true
   },
   "outputs": [],
   "source": [
    "import sys\n",
    "import numpy as np\n",
    "import matplotlib.pyplot as plt\n",
    "import matplotlib.animation as animation\n",
    "plt.style.use('seaborn-poster')\n",
    "lines = [\"-\",\"--\",\"-.\",\":\", \"o\", \"v\", \"d\", \"^\", \"<\", \">\", \"1\", \"2\", \"3\", \"4\", \"s\", \"p\", \"*\"]\n",
    "\n",
    "# path = sys.argv\n",
    "\n",
    "# folder = str(path[1])\n",
    "# filename = str(path[2])\n"
   ]
  },
  {
   "cell_type": "markdown",
   "metadata": {},
   "source": [
    "Import data"
   ]
  },
  {
   "cell_type": "code",
   "execution_count": 3,
   "metadata": {},
   "outputs": [
    {
     "name": "stdout",
     "output_type": "stream",
     "text": [
      "../gxx/bipolar\n",
      "├── ih\n",
      "│   ├── neutrino-headon-bipolar-ih\n",
      "│   ├── neutrino-headon-bipolar-ih-range-1-refl-0.0-mu-0.5-100000-100000-22.record\n",
      "│   ├── neutrino-headon-bipolar-ih-range-1-refl-0.0-mu-10.0-100000-100000-22.record\n",
      "│   ├── neutrino-headon-bipolar-ih-range-1-refl-0.0-mu-20.0-100000-100000-22.record\n",
      "│   ├── neutrino-headon-bipolar-ih-range-1-refl-0.0-mu-4.0-100000-100000-22.record\n",
      "│   ├── neutrino-headon-bipolar-ih-range-1-refl-0.1-mu-0.5-100000-100000-22.record\n",
      "│   ├── neutrino-headon-bipolar-ih-range-1-refl-0.1-mu-10.0-100000-100000-22.record\n",
      "│   ├── neutrino-headon-bipolar-ih-range-1-refl-0.1-mu-20.0-100000-100000-22.record\n",
      "│   ├── neutrino-headon-bipolar-ih-range-1-refl-0.1-mu-4.0-100000-100000-22.record\n",
      "│   ├── neutrino-headon-bipolar-ih-range-5-refl-0.0-mu-0.5-500000-500000-22.record\n",
      "│   ├── neutrino-headon-bipolar-ih-range-5-refl-0.0-mu-10.0-500000-500000-22.record\n",
      "│   ├── neutrino-headon-bipolar-ih-range-5-refl-0.0-mu-20.0-500000-500000-22.record\n",
      "│   ├── neutrino-headon-bipolar-ih-range-5-refl-0.0-mu-4.0-500000-500000-22.record\n",
      "│   ├── neutrino-headon-bipolar-ih-range-5-refl-0.1-mu-0.5-500000-500000-22.record\n",
      "│   ├── neutrino-headon-bipolar-ih-range-5-refl-0.1-mu-10.0-500000-500000-22.record\n",
      "│   ├── neutrino-headon-bipolar-ih-range-5-refl-0.1-mu-20.0-500000-500000-22.record\n",
      "│   ├── neutrino-headon-bipolar-ih-range-5-refl-0.1-mu-4.0-500000-500000-22.record\n",
      "│   ├── neutrino-headon-nunubar_MU_0.500000_REFL0.000000_ITER100000_STEPS100000_RANGE1.000000_TH_22_t2018-2-18-18-16-9.csv\n",
      "│   ├── neutrino-headon-nunubar_MU_0.500000_REFL0.000000_ITER500000_STEPS500000_RANGE5.000000_TH_22_t2018-2-18-18-26-43.csv\n",
      "│   ├── neutrino-headon-nunubar_MU_0.500000_REFL0.100000_ITER100000_STEPS100000_RANGE1.000000_TH_22_t2018-2-19-12-42-21.csv\n",
      "│   ├── neutrino-headon-nunubar_MU_0.500000_REFL0.100000_ITER500000_STEPS500000_RANGE5.000000_TH_22_t2018-2-19-12-52-55.csv\n",
      "│   ├── neutrino-headon-nunubar_MU_10.000000_REFL0.000000_ITER100000_STEPS100000_RANGE1.000000_TH_22_t2018-2-19-3-28-25.csv\n",
      "│   ├── neutrino-headon-nunubar_MU_10.000000_REFL0.000000_ITER500000_STEPS500000_RANGE5.000000_TH_22_t2018-2-19-3-38-58.csv\n",
      "│   ├── neutrino-headon-nunubar_MU_10.000000_REFL0.100000_ITER100000_STEPS100000_RANGE1.000000_TH_22_t2018-2-19-21-55-18.csv\n",
      "│   ├── neutrino-headon-nunubar_MU_10.000000_REFL0.100000_ITER500000_STEPS500000_RANGE5.000000_TH_22_t2018-2-19-22-5-51.csv\n",
      "│   ├── neutrino-headon-nunubar_MU_20.000000_REFL0.000000_ITER100000_STEPS100000_RANGE1.000000_TH_22_t2018-2-19-8-6-7.csv\n",
      "│   ├── neutrino-headon-nunubar_MU_20.000000_REFL0.000000_ITER500000_STEPS500000_RANGE5.000000_TH_22_t2018-2-19-8-16-40.csv\n",
      "│   ├── neutrino-headon-nunubar_MU_20.000000_REFL0.100000_ITER100000_STEPS100000_RANGE1.000000_TH_22_t2018-2-20-2-31-16.csv\n",
      "│   ├── neutrino-headon-nunubar_MU_20.000000_REFL0.100000_ITER500000_STEPS500000_RANGE5.000000_TH_22_t2018-2-20-2-41-50.csv\n",
      "│   ├── neutrino-headon-nunubar_MU_4.000000_REFL0.000000_ITER100000_STEPS100000_RANGE1.000000_TH_22_t2018-2-18-22-52-12.csv\n",
      "│   ├── neutrino-headon-nunubar_MU_4.000000_REFL0.000000_ITER500000_STEPS500000_RANGE5.000000_TH_22_t2018-2-18-23-2-46.csv\n",
      "│   ├── neutrino-headon-nunubar_MU_4.000000_REFL0.100000_ITER100000_STEPS100000_RANGE1.000000_TH_22_t2018-2-19-17-18-52.csv\n",
      "│   ├── neutrino-headon-nunubar_MU_4.000000_REFL0.100000_ITER500000_STEPS500000_RANGE5.000000_TH_22_t2018-2-19-17-30-3.csv\n",
      "│   ├── validate.out\n",
      "│   └── validate.sh\n",
      "└── nh\n",
      "    ├── neutrino-headon-bipolar\n",
      "    ├── neutrino-headon-bipolar-range-1-refl-0.0-mu-0.5-100000-100000-22.record\n",
      "    ├── neutrino-headon-bipolar-range-1-refl-0.0-mu-10.0-100000-100000-22.record\n",
      "    ├── neutrino-headon-bipolar-range-1-refl-0.0-mu-20.0-100000-100000-22.record\n",
      "    ├── neutrino-headon-bipolar-range-1-refl-0.0-mu-4.0-100000-100000-22.record\n",
      "    ├── neutrino-headon-bipolar-range-1-refl-0.1-mu-0.5-100000-100000-22.record\n",
      "    ├── neutrino-headon-bipolar-range-1-refl-0.1-mu-10.0-100000-100000-22.record\n",
      "    ├── neutrino-headon-bipolar-range-1-refl-0.1-mu-20.0-100000-100000-22.record\n",
      "    ├── neutrino-headon-bipolar-range-1-refl-0.1-mu-4.0-100000-100000-22.record\n",
      "    ├── neutrino-headon-bipolar-range-5-refl-0.0-mu-0.5-500000-500000-22.record\n",
      "    ├── neutrino-headon-bipolar-range-5-refl-0.0-mu-10.0-500000-500000-22.record\n",
      "    ├── neutrino-headon-bipolar-range-5-refl-0.0-mu-20.0-500000-500000-22.record\n",
      "    ├── neutrino-headon-bipolar-range-5-refl-0.0-mu-4.0-500000-500000-22.record\n",
      "    ├── neutrino-headon-bipolar-range-5-refl-0.1-mu-0.5-500000-500000-22.record\n",
      "    ├── neutrino-headon-bipolar-range-5-refl-0.1-mu-10.0-500000-500000-22.record\n",
      "    ├── neutrino-headon-bipolar-range-5-refl-0.1-mu-20.0-500000-500000-22.record\n",
      "    ├── neutrino-headon-bipolar-range-5-refl-0.1-mu-4.0-500000-500000-22.record\n",
      "    ├── neutrino-headon-nunubar_MU_0.500000_REFL0.000000_ITER100000_STEPS100000_RANGE1.000000_TH_22_t2018-2-14-17-20-35.csv\n",
      "    ├── neutrino-headon-nunubar_MU_0.500000_REFL0.000000_ITER500000_STEPS500000_RANGE5.000000_TH_22_t2018-2-14-17-31-6.csv\n",
      "    ├── neutrino-headon-nunubar_MU_0.500000_REFL0.100000_ITER100000_STEPS100000_RANGE1.000000_TH_22_t2018-2-15-11-40-36.csv\n",
      "    ├── neutrino-headon-nunubar_MU_0.500000_REFL0.100000_ITER500000_STEPS500000_RANGE5.000000_TH_22_t2018-2-15-11-51-8.csv\n",
      "    ├── neutrino-headon-nunubar_MU_10.000000_REFL0.000000_ITER100000_STEPS100000_RANGE1.000000_TH_22_t2018-2-15-2-30-33.csv\n",
      "    ├── neutrino-headon-nunubar_MU_10.000000_REFL0.000000_ITER500000_STEPS500000_RANGE5.000000_TH_22_t2018-2-15-2-41-4.csv\n",
      "    ├── neutrino-headon-nunubar_MU_10.000000_REFL0.100000_ITER100000_STEPS100000_RANGE1.000000_TH_22_t2018-2-15-20-50-48.csv\n",
      "    ├── neutrino-headon-nunubar_MU_10.000000_REFL0.100000_ITER500000_STEPS500000_RANGE5.000000_TH_22_t2018-2-15-21-1-20.csv\n",
      "    ├── neutrino-headon-nunubar_MU_20.000000_REFL0.000000_ITER100000_STEPS100000_RANGE1.000000_TH_22_t2018-2-15-7-5-45.csv\n",
      "    ├── neutrino-headon-nunubar_MU_20.000000_REFL0.000000_ITER500000_STEPS500000_RANGE5.000000_TH_22_t2018-2-15-7-16-17.csv\n",
      "    ├── neutrino-headon-nunubar_MU_20.000000_REFL0.100000_ITER100000_STEPS100000_RANGE1.000000_TH_22_t2018-2-16-1-26-1.csv\n",
      "    ├── neutrino-headon-nunubar_MU_20.000000_REFL0.100000_ITER500000_STEPS500000_RANGE5.000000_TH_22_t2018-2-16-1-36-34.csv\n",
      "    ├── neutrino-headon-nunubar_MU_4.000000_REFL0.000000_ITER100000_STEPS100000_RANGE1.000000_TH_22_t2018-2-14-21-55-34.csv\n",
      "    ├── neutrino-headon-nunubar_MU_4.000000_REFL0.000000_ITER500000_STEPS500000_RANGE5.000000_TH_22_t2018-2-14-22-6-5.csv\n",
      "    ├── neutrino-headon-nunubar_MU_4.000000_REFL0.100000_ITER100000_STEPS100000_RANGE1.000000_TH_22_t2018-2-15-16-15-37.csv\n",
      "    ├── neutrino-headon-nunubar_MU_4.000000_REFL0.100000_ITER500000_STEPS500000_RANGE5.000000_TH_22_t2018-2-15-16-26-12.csv\n",
      "    ├── validate.out\n",
      "    └── validate.sh\n",
      "\n",
      "2 directories, 70 files\n"
     ]
    }
   ],
   "source": [
    "%%bash\n",
    "tree ../gxx/bipolar"
   ]
  },
  {
   "cell_type": "code",
   "execution_count": 4,
   "metadata": {
    "scrolled": false
   },
   "outputs": [
    {
     "name": "stdout",
     "output_type": "stream",
     "text": [
      "Data Loaded\n"
     ]
    }
   ],
   "source": [
    "data = np.genfromtxt('../gxx/bipolar/ih/neutrino-headon-nunubar_MU_4.000000_REFL0.000000_ITER500000_STEPS500000_RANGE5.000000_TH_22_t2018-2-18-23-2-46.csv', delimiter = \", \")\n",
    "print(\"Data Loaded\")\n"
   ]
  },
  {
   "cell_type": "code",
   "execution_count": 5,
   "metadata": {
    "collapsed": true
   },
   "outputs": [],
   "source": [
    "totlen = len(data)\n",
    "lendata = int(len(data[0])/2)\n",
    "seg = 10\n",
    "\n",
    "xdata = data[0][:lendata:seg]\n",
    "ydata = np.sqrt( data[-2][:lendata:seg]**2 + data[-1][:lendata:seg]**2 )\n",
    "# ydata = data[-3][:lendata]"
   ]
  },
  {
   "cell_type": "code",
   "execution_count": 6,
   "metadata": {},
   "outputs": [
    {
     "data": {
      "image/png": "[encoded data removed]",
      "text/plain": [
       "<matplotlib.figure.Figure at 0x113fad198>"
      ]
     },
     "metadata": {},
     "output_type": "display_data"
    }
   ],
   "source": [
    "plt.semilogy( xdata, ydata, \"k.\", label='Numerical')\n",
    "plt.show()"
   ]
  },
  {
   "cell_type": "code",
   "execution_count": 7,
   "metadata": {},
   "outputs": [
    {
     "name": "stdout",
     "output_type": "stream",
     "text": [
      "-0.250469671154838 -1.589828771343517\n"
     ]
    }
   ],
   "source": [
    "bgp = 7\n",
    "edp = -6\n",
    "\n",
    "slopefit,interceptfit = np.polyfit(xdata[bgp:edp], np.log(  ydata[bgp:edp] ) , 1)\n",
    "\n",
    "print(slopefit,interceptfit)"
   ]
  },
  {
   "cell_type": "code",
   "execution_count": 101,
   "metadata": {},
   "outputs": [
    {
     "name": "stdout",
     "output_type": "stream",
     "text": [
      "8.88819441732\n"
     ]
    }
   ],
   "source": [
    "omegav = -1\n",
    "mu = 40\n",
    "alpha = 1\n",
    "\n",
    "slopeth = np.sqrt((1-alpha)**2 * mu**2 + 4 * (1 + alpha) * mu * omegav + 4* omegav**2 +0*1j) / 2\n",
    "print(slopeth.imag)"
   ]
  },
  {
   "cell_type": "code",
   "execution_count": 102,
   "metadata": {},
   "outputs": [
    {
     "data": {
      "text/plain": [
       "0.68859718637092215"
      ]
     },
     "execution_count": 102,
     "metadata": {},
     "output_type": "execute_result"
    }
   ],
   "source": [
    "slopefit/slopeth.imag"
   ]
  },
  {
   "cell_type": "code",
   "execution_count": 103,
   "metadata": {
    "collapsed": true
   },
   "outputs": [],
   "source": [
    "def fit(k, b, x):\n",
    "    return k*x+b"
   ]
  },
  {
   "cell_type": "code",
   "execution_count": 105,
   "metadata": {
    "scrolled": false
   },
   "outputs": [
    {
     "data": {
      "image/png": "[encoded data removed]",
      "text/plain": [
       "<matplotlib.figure.Figure at 0x11053f240>"
      ]
     },
     "metadata": {},
     "output_type": "display_data"
    }
   ],
   "source": [
    "plt.semilogy( xdata, np.exp( fit(slopefit, interceptfit, xdata) ) , \"r-\", label=\"Theory\")\n",
    "plt.semilogy( xdata, ydata, \"k.\", label='Numerical')\n",
    "plt.legend()\n",
    "plt.title(\"$\\mu=10$, $\\\\alpha=1$, IH\")\n",
    "plt.show()"
   ]
  },
  {
   "cell_type": "code",
   "execution_count": 10,
   "metadata": {},
   "outputs": [],
   "source": [
    "test = np.array([1,2,3,4])"
   ]
  },
  {
   "cell_type": "code",
   "execution_count": 11,
   "metadata": {},
   "outputs": [
    {
     "data": {
      "text/plain": [
       "array([2])"
      ]
     },
     "execution_count": 11,
     "metadata": {},
     "output_type": "execute_result"
    }
   ],
   "source": [
    "test[1:2]"
   ]
  },
  {
   "cell_type": "code",
   "execution_count": null,
   "metadata": {},
   "outputs": [],
   "source": []
  }
 ],
 "metadata": {
  "kernelspec": {
   "display_name": "Python 3",
   "language": "python",
   "name": "python3"
  },
  "language_info": {
   "codemirror_mode": {
    "name": "ipython",
    "version": 3
   },
   "file_extension": ".py",
   "mimetype": "text/x-python",
   "name": "python",
   "nbconvert_exporter": "python",
   "pygments_lexer": "ipython3",
   "version": "3.6.4"
  }
 },
 "nbformat": 4,
 "nbformat_minor": 2
}
